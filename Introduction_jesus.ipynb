{
 "cells": [
  {
   "cell_type": "markdown",
   "metadata": {},
   "source": [
    "# Tarea E-3. \n",
    "\n",
    "**Autores**: Jesús Martínez Leal y Carlos Sánchez Polo\n",
    "\n",
    "**Enunciado**:\n",
    "\n",
    "El algoritmo DOMINANT de `detección de anomalías` en grafos está basado en las ideas de redes convolucionales (GNN) y autoencoders (GAE) de los grafos.\n",
    "\n",
    "- Introduce teóricamente las redes convolucionales en grafos (GNN).\n",
    "- Aplica las GNN en ejemplos sencillos en los que se muestren los conceptos anteriormente introducidos."
   ]
  },
  {
   "cell_type": "markdown",
   "metadata": {},
   "source": [
    "## Conceptos previos"
   ]
  },
  {
   "cell_type": "markdown",
   "metadata": {},
   "source": [
    "### Introducción a los grafos"
   ]
  },
  {
   "cell_type": "markdown",
   "metadata": {},
   "source": [
    "Los grafos son estructuras matemáticas que nos permiten representar y modelar relaciones entre diversas entidades. En su forma más básica, un grafo está compuesto por un conjunto de `nodos` (también llamados vértices) unidos por enlaces llamados `aristas` (también llamados bordes). Típicamente, un grafo se representa como diagrama como un conjunto de círculos para los vértices, unido por líneas o curvas para las aristas. \n",
    "\n",
    "<figure align=\"center\">\n",
    "  <img src=\"./data/graph-theory-in-discrete-mathematics.png\" alt=\"Figura de un grafo\">\n",
    "  <figcaption>Figura 1: Representación de un grafo.</figcaption>\n",
    "</figure>\n",
    "\n",
    "Los enlaces pueden ser `no dirigidos` o `dirigidos`, lo que significa que pueden representar relaciones unidireccionales o bidireccionales entre los nodos, respectivamente. Ejemplos de esto serían:\n",
    "\n",
    "- **Enlaces no dirigidos**. Imaginemos que tenemos un grafo con vértices representando a personas en una fiesta y existe una conexión si dos personas se dan la mano. Las conexiones serán efectivamente no dirigidas dada la reprocidad que implica darse la mano.\n",
    "\n",
    "- **Enlaces dirigidos**. Imaginemos ahora que el grafo cuenta con vértices representando las conexiones entre distintas estaciones de tren. Podría darse el caso que la estación A estuviera conectada con la estación B directamente, pero que no fuera al contrario.\n",
    "\n",
    "<div style=\"text-align:center;\">\n",
    "  <figure style=\"display:inline-block;\">\n",
    "    <img src=\"./data/conexion_no_dirigida.png\" alt=\"Conexión no dirigida\">\n",
    "    <figcaption>Figura 2: Enlace no dirigido.</figcaption>\n",
    "  </figure>\n",
    "  <figure style=\"display:inline-block;\">\n",
    "    <img src=\"./data/conexion_dirigida.png\" alt=\"Conexión dirigida\">\n",
    "    <figcaption>Figura 3: Enlace dirigido.</figcaption>\n",
    "  </figure>\n",
    "</div>\n",
    "\n",
    "Formalmente, un grafo $G$ es un `par ordenado` $G = (V, E)$, donde $V$ es un conjunto de nodos y $E$ un conjunto de aristas que relacionan estos. En un `grafo no dirigido` encontramos que todos los enlaces son no dirigidos, sucediendo justamente lo opuesto en un `grafo dirigido`. Por otra parte,  un `grafo mixto` permite los dos tipos de enlaces en su estructura, siendo un caso más general de los anteriores.\n",
    "\n",
    "\n",
    "\n",
    "Cabe mencionar que los elementos individuales de cada grafo pueden almacenar información adicional:\n",
    "\n",
    "- Información en nodos. La información almacenada en cada nodo puede incluir atributos para caracterizar mejor la entidad que representa.\n",
    "- Información en enlaces. La información aquí puede incluir atributos que desciben la naturaleza de la relación entre los nodos.\n",
    "- Información en el grafo en su conjunto. Información como el número total de nodos y aristas, densidad del grafo, etc.\n",
    "\n",
    "<figure align=\"center\">\n",
    "  <img src=\"./data/information_graphs.png\" alt=\"Información incrustada en un grafo\">\n",
    "  <figcaption>Figura 4: Información incrustada dentro de los elementos de un grafo.</figcaption>\n",
    "</figure>\n"
   ]
  },
  {
   "cell_type": "markdown",
   "metadata": {},
   "source": [
    "Los grafos constituyen herramientas poderosas y versátiles que se utilizan en amplia variedad de campos, debido a su capacidad de modelar y representar una amplia gama de relaciones y estructuras complejas."
   ]
  },
  {
   "cell_type": "markdown",
   "metadata": {},
   "source": [
    "### Introducción a las redes neuronales convolucionales"
   ]
  }
 ],
 "metadata": {
  "kernelspec": {
   "display_name": "Python 3",
   "language": "python",
   "name": "python3"
  },
  "language_info": {
   "name": "python",
   "version": "3.11.5"
  }
 },
 "nbformat": 4,
 "nbformat_minor": 2
}
