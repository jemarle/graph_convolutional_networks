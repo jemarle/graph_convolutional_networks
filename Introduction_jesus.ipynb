{
 "cells": [
  {
   "cell_type": "markdown",
   "metadata": {},
   "source": [
    "# Tarea E-3. \n",
    "\n",
    "**Autores**: Jesús Martínez Leal y Carlos Sánchez Polo\n",
    "\n",
    "**Enunciado**:\n",
    "\n",
    "El algoritmo DOMINANT de `detección de anomalías` en grafos está basado en las ideas de redes convolucionales (GNN) y autoencoders (GAE) de los grafos.\n",
    "\n",
    "- Introduce teóricamente las redes convolucionales en grafos (GNN).\n",
    "- Aplica las GNN en ejemplos sencillos en los que se muestren los conceptos anteriormente introducidos."
   ]
  },
  {
   "cell_type": "markdown",
   "metadata": {},
   "source": [
    "## Conceptos previos"
   ]
  },
  {
   "cell_type": "markdown",
   "metadata": {},
   "source": [
    "### Introducción a los grafos"
   ]
  },
  {
   "cell_type": "markdown",
   "metadata": {},
   "source": [
    "Los grafos son estructuras matemáticas que nos permiten representar y modelar relaciones entre diversas entidades. En su forma más básica, un grafo está compuesto por un conjunto de `nodos` (también llamados vértices) unidos por enlaces llamados `aristas` (también llamados bordes). Típicamente, un grafo se representa como diagrama como un conjunto de círculos para los vértices, unido por líneas o curvas para las aristas. \n",
    "\n",
    "<figure align=\"center\">\n",
    "  <img src=\"./data/graph-theory-in-discrete-mathematics.png\" alt=\"Figura de un grafo\">\n",
    "  <figcaption>Figura 1: Representación de un grafo.</figcaption>\n",
    "</figure>\n",
    "\n",
    "Los enlaces pueden ser `no dirigidos` o `dirigidos`, lo que significa que pueden representar relaciones unidireccionales o bidireccionales entre los nodos, respectivamente. Ejemplos de esto serían:\n",
    "\n",
    "- **Enlaces no dirigidos**. Imaginemos que tenemos un grafo con vértices representando a personas en una fiesta y existe una conexión si dos personas se dan la mano. Las conexiones serán efectivamente no dirigidas dada la reprocidad que implica darse la mano.\n",
    "\n",
    "- **Enlaces dirigidos**. Imaginemos ahora que el grafo cuenta con vértices representando las conexiones entre distintas estaciones de tren. Podría darse el caso que la estación A estuviera conectada con la estación B directamente, pero que no fuera al contrario.\n",
    "\n",
    "<div style=\"text-align:center;\">\n",
    "  <figure style=\"display:inline-block;\">\n",
    "    <img src=\"./data/conexion_no_dirigida.png\" alt=\"Conexión no dirigida\">\n",
    "    <figcaption>Figura 2: Enlace no dirigido.</figcaption>\n",
    "  </figure>\n",
    "  <figure style=\"display:inline-block;\">\n",
    "    <img src=\"./data/conexion_dirigida.png\" alt=\"Conexión dirigida\">\n",
    "    <figcaption>Figura 3: Enlace dirigido.</figcaption>\n",
    "  </figure>\n",
    "</div>\n",
    "\n"
   ]
  }
 ],
 "metadata": {
  "language_info": {
   "name": "python"
  }
 },
 "nbformat": 4,
 "nbformat_minor": 2
}
